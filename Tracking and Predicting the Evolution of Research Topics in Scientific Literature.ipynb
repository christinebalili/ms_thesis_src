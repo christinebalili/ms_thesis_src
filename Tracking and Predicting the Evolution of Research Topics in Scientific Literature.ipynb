{
 "cells": [
  {
   "cell_type": "code",
   "execution_count": null,
   "metadata": {
    "collapsed": false
   },
   "outputs": [],
   "source": [
    "import networkx as nx \n",
    "import igraph as ig\n",
    "import numpy as np \n",
    "import scipy as sp \n",
    "import pickle\n",
    "import pandas as pd \n",
    "import collections\n",
    "import requests \n",
    "import math \n",
    "import json\n",
    "import re"
   ]
  },
  {
   "cell_type": "markdown",
   "metadata": {},
   "source": [
    "Constructing the graphs from the co-occurrence logs in CSV format"
   ]
  },
  {
   "cell_type": "code",
   "execution_count": 93,
   "metadata": {
    "collapsed": false
   },
   "outputs": [],
   "source": [
    "def make_graph(path,timestamp,graph_format=\"gpickle\",output_dir=\"graphs/\"):\n",
    "    graph_file = open(path,\"rb\")\n",
    "    co_occurrences = graph_file.readlines()\n",
    "    co_occurrences = [x.strip() for x in co_occurrences] \n",
    "    \n",
    "    graph = nx.parse_edgelist(co_occurrences, nodetype = str, data=(('weight',int),), delimiter=\",\")\n",
    "    \n",
    "    outfile = output_dir+\"graph_\"+str(timestamp)+\".\"+graph_format\n",
    "    if graph_format == \"gpickle\":\n",
    "        nx.write_gpickle(graph,outfile)\n",
    "    \n",
    "    elif graph_format == \"gexf\":\n",
    "        nx.write_gexf(graph,outfile)\n",
    "        \n",
    "    elif graph_format == \"gml\":\n",
    "        nx.write_gml(graph,outfile)\n",
    "        \n",
    "    elif graph_format == \"pajek\":\n",
    "        nx.write_pajek(graph,outfile)\n",
    "    \n",
    "    elif graph_format == \"edgelist\":\n",
    "        nx.write_weighted_edgelist(graph,outfile)\n",
    "    \n",
    "    return {\n",
    "        \"outputfile\":outfile,\n",
    "        \"graph\":graph\n",
    "    }\n"
   ]
  },
  {
   "cell_type": "markdown",
   "metadata": {},
   "source": [
    "Community detection at each snapshot using iGraph. There is no interface between networkx and iGraph; hence, from the raw_data, the networkx-constructed graph is saved into pajek format to be used by iGraph in community detection."
   ]
  },
  {
   "cell_type": "code",
   "execution_count": 62,
   "metadata": {
    "collapsed": false
   },
   "outputs": [],
   "source": [
    "def detect_communities(graph,timestamp,method=\"infomap\",save_to_file=True,output_dir=\"graphs/\"):\n",
    "    if method == \"infomap\":\n",
    "        results = graph.community_infomap(edge_weights=\"weight\")\n",
    "        \n",
    "    elif method == \"label_prop\":\n",
    "        results = graph.community_label_propagation(weights=\"weight\")\n",
    "        \n",
    "    elif method == \"multilevel\":\n",
    "        results = graph.community_multilevel(weights=\"weight\")\n",
    "        \n",
    "    elif method == \"walktrap\":\n",
    "        results = graph.community_walktrap(weights=\"weight\")\n",
    "    \n",
    "    elif method == \"louvain\":\n",
    "        results = graph.community_fastgreedy(weights=\"weight\")\n",
    "    \n",
    "    graph.vs[\"community\"] = results.membership\n",
    "    \n",
    "    if save_to_file: \n",
    "        graph.write_pickle(fname=output_dir+\"graph_\" + str(timestamp) + method + \"_comms.pickle\")\n",
    "    \n",
    "    return graph\n",
    "\n",
    "def get_assigned_community(node_id,graph):\n",
    "    assigned_comm = graph.vs[node_id][\"community\"]\n",
    "    return assigned_comm\n",
    "\n",
    "def get_community(community_id,graph):\n",
    "    nodes_in_comm = graph.vs.select(community_eq=community_id)\n",
    "    return [v.index for v in nodes_in_comm]\n",
    "\n",
    "def get_all_communities(graph):\n",
    "    communities = set(graph.vs[\"community\"])\n",
    "    all_communities = {}\n",
    "    for comm in communities:\n",
    "        nodes_in_comm = graph.vs.select(community_eq=comm)\n",
    "        all_communities[comm] = [v.index for v in nodes_in_comm]\n",
    "    \n",
    "    return all_communities"
   ]
  },
  {
   "cell_type": "markdown",
   "metadata": {},
   "source": [
    "Utility functions for community matching and event detection across snapshots.\n",
    "Theta is the similarity threshold for matching a pair of communities. \n",
    "Phi is th fluctuation threshold that measures the change in size of a community that has a match."
   ]
  },
  {
   "cell_type": "code",
   "execution_count": 60,
   "metadata": {
    "collapsed": true
   },
   "outputs": [],
   "source": [
    "def compute_similarity(comm1,comm2):\n",
    "    common = set(comm1).intersection(set(comm2))\n",
    "    return min(len(common)*1.0/len(comm1), len(common)*1.0/len(comm2))\n",
    "\n",
    "def find_matches(communities1,communities2,theta=0.20,comm_size=3):\n",
    "    matches = {}\n",
    "    \n",
    "    for id1,nodes1 in communities1.iteritems():  #communities in time n\n",
    "        similarities = dict()\n",
    "        \n",
    "        if len(nodes1)>= comm_size:\n",
    "            for id2,nodes2 in communities2.iteritems(): #communities in time n+1  \n",
    "                if len(nodes2) >= comm_size:\n",
    "                    theta_p = compute_similarity(nodes1,nodes2)  \n",
    "                    similarities[id2]=theta_p\n",
    "            \n",
    "            non_zero = filter(lambda x: x != 0, similarities.values()) \n",
    "            match = [item for item in non_zero if item >= theta]\n",
    "\n",
    "            if len(match) >= 1: \n",
    "                matched = similarities.keys()[similarities.values().index(match[0])] \n",
    "                matches[id1] = matched\n",
    "\n",
    "            elif len(match) == 0:\n",
    "                matches[id1] = -1 \n",
    "                \n",
    "    print matches\n",
    "    return matches\n",
    "\n",
    "def detect_event(matches,phi=0.10):\n",
    "    events = {}\n",
    "    \n",
    "    return events"
   ]
  },
  {
   "cell_type": "markdown",
   "metadata": {},
   "source": [
    "Utility functions for extracting features from communities in snapshots"
   ]
  },
  {
   "cell_type": "code",
   "execution_count": null,
   "metadata": {
    "collapsed": true
   },
   "outputs": [],
   "source": [
    "#Feature extraction from communities "
   ]
  },
  {
   "cell_type": "markdown",
   "metadata": {},
   "source": [
    "Training and testing the topic evolution prediction model"
   ]
  },
  {
   "cell_type": "code",
   "execution_count": null,
   "metadata": {
    "collapsed": true
   },
   "outputs": [],
   "source": [
    "#Building the topic evolution prediction model "
   ]
  },
  {
   "cell_type": "code",
   "execution_count": 36,
   "metadata": {
    "collapsed": true
   },
   "outputs": [],
   "source": [
    "graph_dir = \"graphs/\"\n",
    "data_dir = \"data/\""
   ]
  },
  {
   "cell_type": "code",
   "execution_count": 107,
   "metadata": {
    "collapsed": false
   },
   "outputs": [],
   "source": [
    "#For snapshot i\n",
    "timestamp = 1\n",
    "location = data_dir + \"cooc_1.csv\"\n",
    "output = make_graph(location,timestamp,graph_format=\"edgelist\")\n",
    "graph = output[\"graph\"]\n",
    "path = output[\"outputfile\"]\n",
    "\n",
    "#i_graph =  ig.Graph.Read_Pajek(path)\n",
    "i_graph = ig.read(path, format=\"ncol\", directed=False, names=True)\n",
    "i_graph_comms = detect_communities(i_graph,timestamp)\n",
    "\n",
    "#For snapshot i+1 \n",
    "timestamp = 2\n",
    "location = data_dir + \"cooc_2.csv\"\n",
    "output = make_graph(location,timestamp,graph_format=\"edgelist\")\n",
    "graph = output[\"graph\"]\n",
    "path = output[\"outputfile\"]\n",
    "\n",
    "#i_graph =  ig.Graph.Read_Pajek(path)\n",
    "i_graph = ig.read(path, format=\"ncol\", directed=False, names=True)\n",
    "i_graph_comms = detect_communities(i_graph,timestamp)"
   ]
  },
  {
   "cell_type": "code",
   "execution_count": 113,
   "metadata": {
    "collapsed": false
   },
   "outputs": [],
   "source": [
    "#Get the set of communities discovered for a pair of network snapshots\n",
    "graph1 = ig.Graph.Read_Pickle(graph_dir+\"graph_1_comms.pickle\")\n",
    "graph1_comms = get_all_communities(graph1) #set of communities from snapshot 1\n",
    "graph2 = ig.Graph.Read_Pickle(graph_dir+\"graph_2_comms.pickle\")\n",
    "graph2_comms = get_all_communities(graph2) #set of communities from snapshot 2"
   ]
  },
  {
   "cell_type": "code",
   "execution_count": 119,
   "metadata": {
    "collapsed": false
   },
   "outputs": [
    {
     "name": "stdout",
     "output_type": "stream",
     "text": [
      "igraph.Vertex(<igraph.Graph object at 0x118f62050>,1312,{'y': 0.0, 'x': 0.0, 'shape': 'ellipse', 'id': 'C0006030', 'community': 228})\n"
     ]
    }
   ],
   "source": [
    "#print get_community(228,graph1)\n",
    "print graph1.vs[1312]"
   ]
  },
  {
   "cell_type": "code",
   "execution_count": 114,
   "metadata": {
    "collapsed": false
   },
   "outputs": [
    {
     "name": "stdout",
     "output_type": "stream",
     "text": [
      "There are 878 in snapshot i.\n",
      "There are 862 in snapshot i+1.\n"
     ]
    }
   ],
   "source": [
    "#Find matching communities and detect their corresponding evolutions. \n",
    "print \"There are %s in snapshot i.\"%len(graph1_comms)\n",
    "print \"There are %s in snapshot i+1.\"%len(graph2_comms)"
   ]
  },
  {
   "cell_type": "code",
   "execution_count": 94,
   "metadata": {
    "collapsed": false
   },
   "outputs": [],
   "source": [
    "timestamp = 3\n",
    "location = data_dir + \"cooc_3.csv\"\n",
    "output = make_graph(location,timestamp,graph_format=\"edgelist\")\n",
    "graph = output[\"graph\"]\n",
    "path = output[\"outputfile\"]"
   ]
  },
  {
   "cell_type": "code",
   "execution_count": 112,
   "metadata": {
    "collapsed": false
   },
   "outputs": [
    {
     "ename": "InternalError",
     "evalue": "Error at foreign.c:243: Parse error in NCOL file, line 1 (syntax error, unexpected NEWLINE, expecting ALNUM), Parse error",
     "output_type": "error",
     "traceback": [
      "\u001b[0;31m---------------------------------------------------------------------------\u001b[0m",
      "\u001b[0;31mInternalError\u001b[0m                             Traceback (most recent call last)",
      "\u001b[0;32m<ipython-input-112-5b4d8dcbe6cc>\u001b[0m in \u001b[0;36m<module>\u001b[0;34m()\u001b[0m\n\u001b[0;32m----> 1\u001b[0;31m \u001b[0mi_graph\u001b[0m \u001b[0;34m=\u001b[0m \u001b[0mig\u001b[0m\u001b[0;34m.\u001b[0m\u001b[0mread\u001b[0m\u001b[0;34m(\u001b[0m\u001b[0mdata_dir\u001b[0m\u001b[0;34m+\u001b[0m\u001b[0;34m\"cooc_3.csv\"\u001b[0m\u001b[0;34m,\u001b[0m \u001b[0mformat\u001b[0m\u001b[0;34m=\u001b[0m\u001b[0;34m\"ncol\"\u001b[0m\u001b[0;34m,\u001b[0m \u001b[0mdirected\u001b[0m\u001b[0;34m=\u001b[0m\u001b[0mFalse\u001b[0m\u001b[0;34m,\u001b[0m \u001b[0mnames\u001b[0m\u001b[0;34m=\u001b[0m\u001b[0mTrue\u001b[0m\u001b[0;34m)\u001b[0m\u001b[0;34m\u001b[0m\u001b[0m\n\u001b[0m",
      "\u001b[0;32m/Users/christinebalili/anaconda/envs/gl-env/lib/python2.7/site-packages/igraph/__init__.pyc\u001b[0m in \u001b[0;36mread\u001b[0;34m(filename, *args, **kwds)\u001b[0m\n\u001b[1;32m   4061\u001b[0m     \u001b[0;34m@\u001b[0m\u001b[0mparam\u001b[0m \u001b[0mfilename\u001b[0m\u001b[0;34m:\u001b[0m \u001b[0mthe\u001b[0m \u001b[0mname\u001b[0m \u001b[0mof\u001b[0m \u001b[0mthe\u001b[0m \u001b[0mfile\u001b[0m \u001b[0mto\u001b[0m \u001b[0mbe\u001b[0m \u001b[0mloaded\u001b[0m\u001b[0;34m\u001b[0m\u001b[0m\n\u001b[1;32m   4062\u001b[0m     \"\"\"\n\u001b[0;32m-> 4063\u001b[0;31m     \u001b[0;32mreturn\u001b[0m \u001b[0mGraph\u001b[0m\u001b[0;34m.\u001b[0m\u001b[0mRead\u001b[0m\u001b[0;34m(\u001b[0m\u001b[0mfilename\u001b[0m\u001b[0;34m,\u001b[0m \u001b[0;34m*\u001b[0m\u001b[0margs\u001b[0m\u001b[0;34m,\u001b[0m \u001b[0;34m**\u001b[0m\u001b[0mkwds\u001b[0m\u001b[0;34m)\u001b[0m\u001b[0;34m\u001b[0m\u001b[0m\n\u001b[0m\u001b[1;32m   4064\u001b[0m \u001b[0mload\u001b[0m\u001b[0;34m=\u001b[0m\u001b[0mread\u001b[0m\u001b[0;34m\u001b[0m\u001b[0m\n\u001b[1;32m   4065\u001b[0m \u001b[0;34m\u001b[0m\u001b[0m\n",
      "\u001b[0;32m/Users/christinebalili/anaconda/envs/gl-env/lib/python2.7/site-packages/igraph/__init__.pyc\u001b[0m in \u001b[0;36mRead\u001b[0;34m(klass, f, format, *args, **kwds)\u001b[0m\n\u001b[1;32m   2221\u001b[0m             \u001b[0;32mraise\u001b[0m \u001b[0mIOError\u001b[0m\u001b[0;34m(\u001b[0m\u001b[0;34m\"no reader method for file format: %s\"\u001b[0m \u001b[0;34m%\u001b[0m \u001b[0mstr\u001b[0m\u001b[0;34m(\u001b[0m\u001b[0mformat\u001b[0m\u001b[0;34m)\u001b[0m\u001b[0;34m)\u001b[0m\u001b[0;34m\u001b[0m\u001b[0m\n\u001b[1;32m   2222\u001b[0m         \u001b[0mreader\u001b[0m \u001b[0;34m=\u001b[0m \u001b[0mgetattr\u001b[0m\u001b[0;34m(\u001b[0m\u001b[0mklass\u001b[0m\u001b[0;34m,\u001b[0m \u001b[0mreader\u001b[0m\u001b[0;34m)\u001b[0m\u001b[0;34m\u001b[0m\u001b[0m\n\u001b[0;32m-> 2223\u001b[0;31m         \u001b[0;32mreturn\u001b[0m \u001b[0mreader\u001b[0m\u001b[0;34m(\u001b[0m\u001b[0mf\u001b[0m\u001b[0;34m,\u001b[0m \u001b[0;34m*\u001b[0m\u001b[0margs\u001b[0m\u001b[0;34m,\u001b[0m \u001b[0;34m**\u001b[0m\u001b[0mkwds\u001b[0m\u001b[0;34m)\u001b[0m\u001b[0;34m\u001b[0m\u001b[0m\n\u001b[0m\u001b[1;32m   2224\u001b[0m     \u001b[0mLoad\u001b[0m \u001b[0;34m=\u001b[0m \u001b[0mRead\u001b[0m\u001b[0;34m\u001b[0m\u001b[0m\n\u001b[1;32m   2225\u001b[0m \u001b[0;34m\u001b[0m\u001b[0m\n",
      "\u001b[0;31mInternalError\u001b[0m: Error at foreign.c:243: Parse error in NCOL file, line 1 (syntax error, unexpected NEWLINE, expecting ALNUM), Parse error"
     ]
    }
   ],
   "source": [
    "i_graph = ig.read(data_dir+\"cooc_3.csv\", format=\"ncol\", directed=False, names=True)"
   ]
  },
  {
   "cell_type": "code",
   "execution_count": 110,
   "metadata": {
    "collapsed": false
   },
   "outputs": [],
   "source": [
    "all_edges = []\n",
    "for e in i_graph.es:\n",
    "    all_edges.append(e.tuple)\n",
    "    \n",
    "if (2842, 13638) in all_edges:\n",
    "    print \"Found 1.\"\n",
    "    \n",
    "if (13638, 2842) in all_edges:\n",
    "    print \"Found 2.\""
   ]
  },
  {
   "cell_type": "code",
   "execution_count": null,
   "metadata": {
    "collapsed": true
   },
   "outputs": [],
   "source": []
  }
 ],
 "metadata": {
  "kernelspec": {
   "display_name": "Python 2",
   "language": "python",
   "name": "python2"
  },
  "language_info": {
   "codemirror_mode": {
    "name": "ipython",
    "version": 2
   },
   "file_extension": ".py",
   "mimetype": "text/x-python",
   "name": "python",
   "nbconvert_exporter": "python",
   "pygments_lexer": "ipython2",
   "version": "2.7.11"
  }
 },
 "nbformat": 4,
 "nbformat_minor": 0
}

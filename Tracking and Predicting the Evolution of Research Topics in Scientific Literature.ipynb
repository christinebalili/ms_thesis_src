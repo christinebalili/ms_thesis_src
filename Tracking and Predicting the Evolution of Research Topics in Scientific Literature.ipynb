{
 "cells": [
  {
   "cell_type": "code",
   "execution_count": 1,
   "metadata": {
    "collapsed": false
   },
   "outputs": [],
   "source": [
    "import networkx as nx \n",
    "import igraph as ig\n",
    "import numpy as np \n",
    "import scipy as sp \n",
    "import pickle\n",
    "import pandas as pd \n",
    "import collections\n",
    "import requests \n",
    "import math \n",
    "import json\n",
    "import re"
   ]
  },
  {
   "cell_type": "code",
   "execution_count": 2,
   "metadata": {
    "collapsed": false
   },
   "outputs": [],
   "source": [
    "#Constructing the graphs from the co-occurrence logs in CSV format\n",
    "def make_graph(path,timestamp,graph_format=\"gpickle\",output_dir=\"graphs/\"):\n",
    "    graph_file = open(path,\"rb\")\n",
    "    co_occurrences = graph_file.readlines()\n",
    "    co_occurrences = [x.strip() for x in co_occurrences] \n",
    "    \n",
    "    graph = nx.parse_edgelist(co_occurrences, nodetype = str, data=(('weight',int),), delimiter=\",\")\n",
    "    \n",
    "    outfile = output_dir+\"graph_\"+str(timestamp)+\".\"+graph_format\n",
    "    if graph_format == \"gpickle\":\n",
    "        print \"this is true\"\n",
    "        nx.write_gpickle(graph,outfile)\n",
    "    \n",
    "    elif graph_format == \"gexf\":\n",
    "        nx.write_gexf(graph,outfile)\n",
    "        \n",
    "    elif graph_format == \"gml\":\n",
    "        nx.write_gml(graph,outfile)\n",
    "        \n",
    "    elif graph_format == \"pajek\":\n",
    "        nx.write_pajek(graph,outfile)\n",
    "    \n",
    "    return {\n",
    "        \"outputfile\":outfile,\n",
    "        \"graph\":graph\n",
    "    }"
   ]
  },
  {
   "cell_type": "code",
   "execution_count": 30,
   "metadata": {
    "collapsed": false
   },
   "outputs": [],
   "source": [
    "#Community detection at each snapshot using iGraph\n",
    "def detect_communities(graph,method=\"infomap\"):\n",
    "    if method == \"infomap\":\n",
    "        results = graph.community_infomap(edge_weights=\"weight\")\n",
    "        \n",
    "    elif method == \"label_prop\":\n",
    "        results = graph.community_label_propagation(weights=\"weight\")\n",
    "        \n",
    "    elif method == \"multilevel\":\n",
    "        results = graph.community_multilevel(weights=\"weight\")\n",
    "        \n",
    "    elif method == \"walktrap\":\n",
    "        results = graph.community_walktrap(weights=\"weight\")\n",
    "    \n",
    "    elif method == \"louvain\":\n",
    "        results = graph.community_fastgreedy(weights=\"weight\")\n",
    "    \n",
    "    return results\n",
    "\n",
    "def assign_community_mem(graph,clustering_results):\n",
    "    graph.vs[\"community\"] = clustering_results.membership\n",
    "    \n",
    "def get_assigned_community(node_id,graph,clustering_results):\n",
    "    return \"\"\n",
    "\n",
    "def get_community(graph,clustering_results):\n",
    "    return \"\"\n",
    "\n",
    "def get_all_communities(graph,clustering_results):\n",
    "    temp = graph.vs.select(community_eq=1)\n",
    "    print [v.index for v in temp]\n",
    "    print len(temp)\n",
    "    return \"\""
   ]
  },
  {
   "cell_type": "code",
   "execution_count": null,
   "metadata": {
    "collapsed": true
   },
   "outputs": [],
   "source": [
    "#Community matching and event detection across snapshots "
   ]
  },
  {
   "cell_type": "code",
   "execution_count": null,
   "metadata": {
    "collapsed": true
   },
   "outputs": [],
   "source": [
    "#Feature extraction from communities "
   ]
  },
  {
   "cell_type": "code",
   "execution_count": null,
   "metadata": {
    "collapsed": true
   },
   "outputs": [],
   "source": [
    "#Building the topic evolution prediction model "
   ]
  },
  {
   "cell_type": "code",
   "execution_count": 19,
   "metadata": {
    "collapsed": false
   },
   "outputs": [],
   "source": [
    "location = \"data/cooc_1.csv\"\n",
    "output = make_graph(location,\"1\",graph_format=\"pajek\")\n",
    "graph = output[\"graph\"]\n",
    "path = output[\"outputfile\"]\n",
    "\n",
    "#There is no direct interface between igraph and networkx \n",
    "i_graph =  ig.Graph.Read_Pajek(path)\n",
    "detected_comms = detect_communities(i_graph)\n",
    "\n"
   ]
  },
  {
   "cell_type": "code",
   "execution_count": 31,
   "metadata": {
    "collapsed": false
   },
   "outputs": [
    {
     "name": "stdout",
     "output_type": "stream",
     "text": [
      "[31, 116, 125, 146, 149, 150, 165, 171, 200, 207, 208, 360, 370, 411, 416, 427, 435, 510, 578, 579, 581, 583, 588, 590, 602, 623, 707, 708, 711, 712, 713, 714, 750, 822, 836, 888, 898, 902, 974, 990, 991, 1008, 1055, 1185, 1255, 1344, 1366, 1368, 1407, 1628, 1743, 1763, 1789, 1799, 1816, 1861, 1862, 1902, 1926, 1930, 2019, 2059, 2076, 2094, 2095, 2106, 2157, 2173, 2193, 2284, 2292, 2364, 2396, 2420, 2429, 2558, 2611, 2615, 2638, 2677, 2690, 2695, 2818, 2845, 2864, 2936, 3043, 3093, 3140, 3151, 3159, 3185, 3205, 3249, 3272, 3402, 3477, 3514, 3536, 3550, 3648, 3661, 3662, 3668, 3673, 3679, 3715, 3722, 3729, 3742, 3744, 3755, 3767, 3770, 3935, 4013, 4119, 4131, 4143, 4213, 4251, 4327, 4379, 4394, 4398, 4399, 4531, 4608, 4615, 4617, 4630, 4631, 4637, 4644, 4647, 4685, 4688, 4705, 4757, 4778, 4837, 4891, 4934, 5006, 5007, 5042, 5143, 5144, 5185, 5200, 5233, 5234, 5330, 5331, 5369, 5383, 5392, 5406, 5415, 5486, 5490, 5530, 5580, 5626, 5652, 5653, 5654, 5658, 5659, 5678, 5682, 5706, 5719, 5744, 5818, 5819, 5830, 5845, 5848, 5849, 5851, 5867, 5908, 5951, 5989, 6023, 6037, 6039, 6076, 6081, 6084, 6103, 6104, 6188, 6190, 6221, 6231, 6274, 6287, 6289, 6312, 6331, 6423, 6434, 6471, 6473, 6474, 6475, 6476, 6478, 6491, 6497, 6498, 6519, 6589, 6626, 6640, 6668, 6673, 6690, 6710, 6743, 6748, 6789, 6803, 6804, 6805, 6832, 6833, 6834, 6862, 6894, 6907, 6919, 6932, 6933, 6934, 6937, 6953, 6990, 7037, 7042, 7060, 7071, 7075, 7088, 7111, 7197, 7198, 7203, 7287, 7291, 7306, 7324, 7423, 7435, 7436, 7459, 7556, 7589, 7593, 7627, 7684, 7709, 7749, 7791, 7796, 7797, 7893, 7897, 7988, 8006, 8139, 8178, 8225, 8253, 8265, 8271, 8406, 8535, 8541, 8553, 8581, 8605, 8606, 8689, 8716, 8728, 8744, 8776, 8819, 8924, 8972, 8988, 9130, 9335, 9338, 9356, 9368, 9404, 9429, 9450, 9476, 9532, 9551, 9552, 9554, 9584, 9611, 9620, 9758, 9853, 9870, 9973, 10019, 10035, 10048, 10091, 10134, 10166, 10185, 10187, 10209, 10237, 10375, 10399, 10460, 10469, 10470, 10481, 10532, 10533, 10601, 10611, 10645, 10650, 10669, 10699, 10700, 10745, 10806, 10888, 10914, 10915, 11026, 11028, 11089, 11100, 11132, 11206, 11260, 11281, 11282, 11283, 11426, 11440, 11474, 11476, 11501, 11511, 11538, 11664, 11687, 11721, 11739, 11740, 11772, 11859, 11903, 11904, 11905, 11907, 11908, 11910, 11911, 11946, 11951, 12086, 12089]\n",
      "379\n"
     ]
    }
   ],
   "source": [
    "assign_community_mem(i_graph,detected_comms)"
   ]
  },
  {
   "cell_type": "code",
   "execution_count": null,
   "metadata": {
    "collapsed": true
   },
   "outputs": [],
   "source": []
  }
 ],
 "metadata": {
  "kernelspec": {
   "display_name": "Python 2",
   "language": "python",
   "name": "python2"
  },
  "language_info": {
   "codemirror_mode": {
    "name": "ipython",
    "version": 2
   },
   "file_extension": ".py",
   "mimetype": "text/x-python",
   "name": "python",
   "nbconvert_exporter": "python",
   "pygments_lexer": "ipython2",
   "version": "2.7.11"
  }
 },
 "nbformat": 4,
 "nbformat_minor": 0
}
